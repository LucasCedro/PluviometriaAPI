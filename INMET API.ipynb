{
 "cells": [
  {
   "cell_type": "code",
   "execution_count": 10,
   "id": "e5898080",
   "metadata": {},
   "outputs": [],
   "source": [
    "import requests\n",
    "import json\n",
    "import pandas as pd\n",
    "from openpyxl import load_workbook\n",
    "from datetime import date, timedelta"
   ]
  },
  {
   "cell_type": "code",
   "execution_count": 13,
   "id": "78120632",
   "metadata": {},
   "outputs": [
    {
     "data": {
      "text/plain": [
       "'2022-06-20'"
      ]
     },
     "execution_count": 13,
     "metadata": {},
     "output_type": "execute_result"
    }
   ],
   "source": [
    "yesterday = date.today() - timedelta(days=1)\n",
    "# str(yesterday)"
   ]
  },
  {
   "cell_type": "code",
   "execution_count": 2,
   "id": "7f662210",
   "metadata": {},
   "outputs": [
    {
     "data": {
      "text/plain": [
       "'\\nmedidas={}\\n\\nfor i in range(0,len(dados)):\\n    medidas[i] = {    \\n        \\'Data\\': dados[i][\"DT_MEDICAO\"],\\n        \\'Hora_Coleta\\': dados[i][\"HR_MEDICAO\"],\\n        \\'Temp_inst\\': dados[i][\"TEM_INS\"],\\n        \\'Temp_max\\': dados[i][\"TEM_MAX\"],\\n        \\'Temp_min\\': dados[i][\"TEM_MIN\"],\\n        \\'Vent_vel\\': dados[i][\"VEN_VEL\"],\\n        \\'Radiacao_glo\\': dados[i][\"RAD_GLO\"],\\n        \\'Chuva\\': dados[i][\"CHUVA\"],\\n        \\'Cidade\\': dados[i][\"DC_NOME\"],\\n        \\'UF\\':dados[i][\"UF\"],\\n        \\'CD_estacao\\':dados[i][\"CD_ESTACAO\"]\\n    }'"
      ]
     },
     "execution_count": 2,
     "metadata": {},
     "output_type": "execute_result"
    }
   ],
   "source": [
    "dados = requests.get(\"https://apitempo.inmet.gov.br/estacao/\"+str(yesterday)+\"/\"+str(yesterday)+\"/S715\")\n",
    "# dados = requests.get(\"https://apitempo.inmet.gov.br/estacao/2022-06-01/2022-06-20/S715\")\n",
    "dados = dados.json()\n",
    "\n",
    "\n",
    "'''\n",
    "medidas={}\n",
    "\n",
    "for i in range(0,len(dados)):\n",
    "    medidas[i] = {    \n",
    "        'Data': dados[i][\"DT_MEDICAO\"],\n",
    "        'Hora_Coleta': dados[i][\"HR_MEDICAO\"],\n",
    "        'Temp_inst': dados[i][\"TEM_INS\"],\n",
    "        'Temp_max': dados[i][\"TEM_MAX\"],\n",
    "        'Temp_min': dados[i][\"TEM_MIN\"],\n",
    "        'Vent_vel': dados[i][\"VEN_VEL\"],\n",
    "        'Radiacao_glo': dados[i][\"RAD_GLO\"],\n",
    "        'Chuva': dados[i][\"CHUVA\"],\n",
    "        'Cidade': dados[i][\"DC_NOME\"],\n",
    "        'UF':dados[i][\"UF\"],\n",
    "        'CD_estacao':dados[i][\"CD_ESTACAO\"]\n",
    "    }'''"
   ]
  },
  {
   "cell_type": "code",
   "execution_count": 3,
   "id": "7a83d236",
   "metadata": {},
   "outputs": [],
   "source": [
    "# medidas_df = pd.DataFrame(medidas).transpose()\n",
    "# medidas_df"
   ]
  },
  {
   "cell_type": "code",
   "execution_count": 5,
   "id": "32e46dc8",
   "metadata": {},
   "outputs": [
    {
     "name": "stderr",
     "output_type": "stream",
     "text": [
      "C:\\Users\\User\\AppData\\Local\\Temp\\ipykernel_17484\\1018208371.py:2: DeprecationWarning: Call to deprecated function get_sheet_by_name (Use wb[sheetname]).\n",
      "  sheet = wb.get_sheet_by_name(\"Base Dados Climáticos\")\n"
     ]
    }
   ],
   "source": [
    "wb = load_workbook(r'C:\\Users\\User\\Innovatech Gestão Empresarial e Agroflorestal Ltda\\PLATEAU GREEN - Documents\\15. PLATAFORMA IRIS\\02. BANCO DE DADOS\\02. SILVICULTURA\\Base_Temperatura.xlsx')\n",
    "sheet = wb.get_sheet_by_name(\"Base Dados Climáticos\")  "
   ]
  },
  {
   "cell_type": "code",
   "execution_count": 6,
   "id": "7b9d10f8",
   "metadata": {},
   "outputs": [],
   "source": [
    "#Procurando final da planilha\n",
    "i = 1\n",
    "\n",
    "while sheet['A'+str(i)].value:\n",
    "    i+=1"
   ]
  },
  {
   "cell_type": "code",
   "execution_count": 7,
   "id": "319db40c",
   "metadata": {},
   "outputs": [],
   "source": [
    "#populando a planilha\n",
    "j=i\n",
    "\n",
    "for i in range(0,len(dados)):\n",
    "    sheet['A'+str(j)].value = dados[i][\"DT_MEDICAO\"].split('-')[2] + \"/\" + dados[i][\"DT_MEDICAO\"].split('-')[1] + \"/\" + dados[i][\"DT_MEDICAO\"].split('-')[0]\n",
    "    sheet['B'+str(j)].value = dados[i][\"HR_MEDICAO\"] #Hora\n",
    "    sheet['C'+str(j)].value = dados[i][\"TEM_INS\"] #Temp inst\n",
    "    sheet['D'+str(j)].value = dados[i][\"TEM_MAX\"] #Temp max\n",
    "    sheet['E'+str(j)].value = dados[i][\"TEM_MIN\"]#Temp min\n",
    "    sheet['F'+str(j)].value = dados[i][\"VEN_VEL\"] #Velocidade do vento\n",
    "    sheet['G'+str(j)].value = dados[i][\"RAD_GLO\"] #Radiacao Global\n",
    "    sheet['H'+str(j)].value = dados[i][\"CHUVA\"] #Chuva em mm\n",
    "    sheet['I'+str(j)].value = dados[i][\"DC_NOME\"] #Cidade\n",
    "    sheet['J'+str(j)].value = dados[i][\"UF\"] #UF\n",
    "    sheet['K'+str(j)].value = dados[i][\"CD_ESTACAO\"] #Código da Estação\n",
    "    j+=1"
   ]
  },
  {
   "cell_type": "code",
   "execution_count": 8,
   "id": "45f142c7",
   "metadata": {},
   "outputs": [],
   "source": [
    "wb.save(r'C:\\Users\\User\\Innovatech Gestão Empresarial e Agroflorestal Ltda\\PLATEAU GREEN - Documents\\15. PLATAFORMA IRIS\\02. BANCO DE DADOS\\02. SILVICULTURA\\Base_Temperatura.xlsx')"
   ]
  }
 ],
 "metadata": {
  "kernelspec": {
   "display_name": "Python 3 (ipykernel)",
   "language": "python",
   "name": "python3"
  },
  "language_info": {
   "codemirror_mode": {
    "name": "ipython",
    "version": 3
   },
   "file_extension": ".py",
   "mimetype": "text/x-python",
   "name": "python",
   "nbconvert_exporter": "python",
   "pygments_lexer": "ipython3",
   "version": "3.9.12"
  }
 },
 "nbformat": 4,
 "nbformat_minor": 5
}
